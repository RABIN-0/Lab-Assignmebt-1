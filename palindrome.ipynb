{
 "cells": [
  {
   "cell_type": "code",
   "execution_count": 1,
   "metadata": {},
   "outputs": [
    {
     "name": "stdout",
     "output_type": "stream",
     "text": [
      "112211 is a palindrome number.\n"
     ]
    }
   ],
   "source": [
    "def palindrome(num):\n",
    "    org = num\n",
    "    rev_num = 0\n",
    "\n",
    "    while num > 0:\n",
    "        digit = num % 10\n",
    "        rev_num = rev_num * 10 + digit\n",
    "        num = num // 10\n",
    "    return org == rev_num\n",
    "number=int(input(\"Enter a number:\"))\n",
    "\n",
    "if palindrome(number):\n",
    "    print(f\"{number} is a palindrome number.\")\n",
    "else:\n",
    "    print(f\"{number} is not a palindrome number.\")\n"
   ]
  }
 ],
 "metadata": {
  "kernelspec": {
   "display_name": "environment",
   "language": "python",
   "name": "python3"
  },
  "language_info": {
   "codemirror_mode": {
    "name": "ipython",
    "version": 3
   },
   "file_extension": ".py",
   "mimetype": "text/x-python",
   "name": "python",
   "nbconvert_exporter": "python",
   "pygments_lexer": "ipython3",
   "version": "3.10.1"
  }
 },
 "nbformat": 4,
 "nbformat_minor": 2
}
