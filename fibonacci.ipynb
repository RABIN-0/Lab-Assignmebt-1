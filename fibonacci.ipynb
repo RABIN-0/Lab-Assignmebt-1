{
 "cells": [
  {
   "cell_type": "code",
   "execution_count": 1,
   "metadata": {},
   "outputs": [
    {
     "name": "stdout",
     "output_type": "stream",
     "text": [
      "Fibonacci series up to 10 is:\n",
      "[0, 1, 1, 2, 3, 5, 8]\n"
     ]
    }
   ],
   "source": [
    "def fibo(n):\n",
    "    fibonacci = [0, 1] \n",
    "    \n",
    "    while fibonacci[-1] + fibonacci[-2] <= n:\n",
    "        next = fibonacci[-1] + fibonacci[-2]\n",
    "        fibonacci.append(next)\n",
    "    return fibonacci\n",
    "\n",
    "range = int(input(\"Enter a number upto which fibonacci series is to be generated: \"))\n",
    "\n",
    "fibonacci = fibo(range)\n",
    "\n",
    "print(f\"Fibonacci series up to {range} is:\")\n",
    "print(fibonacci)"
   ]
  }
 ],
 "metadata": {
  "kernelspec": {
   "display_name": "environment",
   "language": "python",
   "name": "python3"
  },
  "language_info": {
   "codemirror_mode": {
    "name": "ipython",
    "version": 3
   },
   "file_extension": ".py",
   "mimetype": "text/x-python",
   "name": "python",
   "nbconvert_exporter": "python",
   "pygments_lexer": "ipython3",
   "version": "3.10.1"
  }
 },
 "nbformat": 4,
 "nbformat_minor": 2
}
