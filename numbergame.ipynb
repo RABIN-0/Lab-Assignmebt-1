{
 "cells": [
  {
   "cell_type": "code",
   "execution_count": 1,
   "metadata": {},
   "outputs": [
    {
     "name": "stdout",
     "output_type": "stream",
     "text": [
      "-------Welcome to the Game--------\n",
      "I have chosen a number between 1 and 100. Can you guess it?\n",
      "Higher than 45 Try a higher number.\n",
      "Higher than 56 Try a higher number.\n",
      "Higher than 67 Try a higher number.\n",
      "Higher than 78 Try a higher number.\n",
      "Lower than 89 Try a lower number.\n",
      "Lower than 85 Try a lower number.\n",
      "Lower than 82 Try a lower number.\n",
      "Congratulations! You guessed the correct number 80\n"
     ]
    }
   ],
   "source": [
    "import random\n",
    "\n",
    "def guessgame():\n",
    "    generated = random.randint(1, 100)\n",
    "\n",
    "    print(\"-------Welcome to the Game--------\")\n",
    "    print(\"I have chosen a number between 1 and 100. Can you guess it?\")\n",
    "\n",
    "\n",
    "    while True:\n",
    "        guess = int(input(\"Enter your guess: \"))\n",
    "       \n",
    "\n",
    "        if guess == generated:\n",
    "            print(f\"Congratulations! You guessed the correct number {generated}\")\n",
    "            break\n",
    "        elif guess < generated:\n",
    "            print(f\"Higher than {guess} Try a higher number.\")\n",
    "        else:\n",
    "            print(f\"Lower than {guess} Try a lower number.\")\n",
    "\n",
    "guessgame()\n"
   ]
  }
 ],
 "metadata": {
  "kernelspec": {
   "display_name": "environment",
   "language": "python",
   "name": "python3"
  },
  "language_info": {
   "codemirror_mode": {
    "name": "ipython",
    "version": 3
   },
   "file_extension": ".py",
   "mimetype": "text/x-python",
   "name": "python",
   "nbconvert_exporter": "python",
   "pygments_lexer": "ipython3",
   "version": "3.10.1"
  }
 },
 "nbformat": 4,
 "nbformat_minor": 2
}
